{
 "cells": [
  {
   "cell_type": "code",
   "execution_count": 11,
   "metadata": {},
   "outputs": [],
   "source": [
    "import numpy as np\n",
    "from itertools import product\n",
    "from scipy.stats import t, f"
   ]
  },
  {
   "cell_type": "markdown",
   "metadata": {},
   "source": [
    "### Шаг 1: Масштабирование данных"
   ]
  },
  {
   "cell_type": "code",
   "execution_count": 12,
   "metadata": {},
   "outputs": [],
   "source": [
    "def scale_factor(val, lower, upper):\n",
    "    center = (upper + lower) / 2\n",
    "    range_val = (upper - lower) / 2\n",
    "    return (val - center) / range_val"
   ]
  },
  {
   "cell_type": "markdown",
   "metadata": {
    "slideshow": {
     "slide_type": "notes"
    }
   },
   "source": [
    "### Генерация матрицы плана"
   ]
  },
  {
   "cell_type": "code",
   "execution_count": 13,
   "metadata": {},
   "outputs": [],
   "source": [
    "def generate_planning_matrix():\n",
    "    levels = [-1, 1]\n",
    "    factors = list(product(levels, repeat=4))\n",
    "    \n",
    "    matrix = []\n",
    "    for comb in factors:\n",
    "        row = list(comb)\n",
    "        # Взаимодействия до 4-й степени\n",
    "        row += [\n",
    "            comb[0] * comb[1], comb[0] * comb[2], comb[0] * comb[3],\n",
    "            comb[1] * comb[2], comb[1] * comb[3], comb[2] * comb[3],\n",
    "            comb[0] * comb[1] * comb[2], comb[0] * comb[1] * comb[3],\n",
    "            comb[0] * comb[2] * comb[3], comb[1] * comb[2] * comb[3],\n",
    "            comb[0] * comb[1] * comb[2] * comb[3]\n",
    "        ]\n",
    "        matrix.append(row)\n",
    "    \n",
    "    return np.array(matrix)"
   ]
  },
  {
   "cell_type": "markdown",
   "metadata": {},
   "source": [
    "### Шаг 2: Подготовка данных y"
   ]
  },
  {
   "cell_type": "code",
   "execution_count": 14,
   "metadata": {},
   "outputs": [],
   "source": [
    "y = np.array([\n",
    "    (-9.79 - 11.10 - 10.12) / 3,   # Эксперимент 1\n",
    "    (1.51 + 1.53 + 1.26) / 3,      # Эксперимент 2\n",
    "    (-23.81 - 24.97 - 23.58) / 3,  # Эксперимент 3\n",
    "    (25.53 + 22.75 + 27.30) / 3,   # Эксперимент 4\n",
    "    (-8.02 - 6.70 - 7.80) / 3,     # Эксперимент 5\n",
    "    (5.32 + 6.12 + 6.06) / 3,      # Эксперимент 6\n",
    "    (-10.41 - 11.05 - 9.47) / 3,   # Эксперимент 7\n",
    "    (-14.24 - 13.02 - 14.51) / 3,  # Эксперимент 8\n",
    "    (-22.01 - 19.10 - 20.14) / 3,  # Эксперимент 9\n",
    "    (-16.74 - 17.30 - 18.41) / 3,  # Эксперимент 10\n",
    "    (12.40 + 11.80 + 12.76) / 3,   # Эксперимент 11\n",
    "    (0.67 + 0.70 + 0.75) / 3,      # Эксперимент 12\n",
    "    (-2.10 - 2.26 - 2.44) / 3,     # Эксперимент 13\n",
    "    (-4.90 - 4.71 - 4.28) / 3,     # Эксперимент 14\n",
    "    (-1.37 - 1.43 - 1.64) / 3,     # Эксперимент 15\n",
    "    (76.04 + 85.23 + 91.92) / 3    # Эксперимент 16\n",
    "])"
   ]
  },
  {
   "cell_type": "markdown",
   "metadata": {},
   "source": [
    "### Шаг 3: Построение уравнения регрессии"
   ]
  },
  {
   "cell_type": "code",
   "execution_count": 15,
   "metadata": {},
   "outputs": [],
   "source": [
    "\n",
    "def calculate_regression_coefficients(X, y):\n",
    "    # Добавляем единичный столбец для свободного члена\n",
    "    X = np.hstack((np.ones((X.shape[0], 1)), X))\n",
    "    # Решаем систему: X.T * X * b = X.T * y\n",
    "    b = np.linalg.lstsq(X, y, rcond=None)[0]\n",
    "    return b"
   ]
  },
  {
   "cell_type": "markdown",
   "metadata": {},
   "source": [
    "### Шаг 4: Проверка значимости коэффициентов (Стьюдент)"
   ]
  },
  {
   "cell_type": "code",
   "execution_count": 16,
   "metadata": {},
   "outputs": [],
   "source": [
    "def check_significance(b, y, X):\n",
    "    X = np.hstack((np.ones((X.shape[0], 1)), X))\n",
    "    y_pred = X @ b\n",
    "    residuals = y - y_pred\n",
    "    variance = np.var(residuals, ddof=1)\n",
    "    standard_error = np.sqrt(variance / len(y))\n",
    "    \n",
    "    t_critical = t.ppf(0.975, df=len(y) - len(b))\n",
    "    significant = [i for i, coeff in enumerate(b) if np.abs(coeff / standard_error) > t_critical]\n",
    "    \n",
    "    return significant, t_critical"
   ]
  },
  {
   "cell_type": "markdown",
   "metadata": {},
   "source": [
    "### Шаг 5: Пересчёт модели с учётом значимых коэффициентов"
   ]
  },
  {
   "cell_type": "code",
   "execution_count": 17,
   "metadata": {},
   "outputs": [],
   "source": [
    "def update_model(b, X, y, significant_indices):\n",
    "    X_new = X[:, significant_indices]\n",
    "    X_new = np.hstack((np.ones((X_new.shape[0], 1)), X_new))\n",
    "    b_new = np.linalg.lstsq(X_new, y, rcond=None)[0]\n",
    "    return b_new, X_new"
   ]
  },
  {
   "cell_type": "markdown",
   "metadata": {},
   "source": [
    "### Шаг 6: Проверка адекватности модели (Фишер)"
   ]
  },
  {
   "cell_type": "code",
   "execution_count": 24,
   "metadata": {},
   "outputs": [],
   "source": [
    "# Проверка адекватности (Фишер)\n",
    "def check_adequacy(b, X, y):\n",
    "    y_pred = X @ b\n",
    "    residuals = y - y_pred\n",
    "    S2_residual = np.var(residuals, ddof=1)\n",
    "    S2_y = np.var(y, ddof=1)\n",
    "    F_calculated = S2_y / S2_residual\n",
    "    \n",
    "    # Степени свободы для числителя и знаменателя\n",
    "    dfn = len(y) - len(b)  # степень свободы остаточной дисперсии\n",
    "    dfd = len(b) - 1       # степень свободы модели\n",
    "    \n",
    "    F_critical = f.ppf(0.95, dfn, dfd)\n",
    "    \n",
    "    return F_calculated, F_critical"
   ]
  },
  {
   "cell_type": "markdown",
   "metadata": {},
   "source": [
    "### Запуск всего процесса"
   ]
  },
  {
   "cell_type": "code",
   "execution_count": 25,
   "metadata": {},
   "outputs": [],
   "source": [
    "planning_matrix = generate_planning_matrix()\n",
    "X = planning_matrix"
   ]
  },
  {
   "cell_type": "markdown",
   "metadata": {},
   "source": [
    "### Рассчитываем коэффициенты"
   ]
  },
  {
   "cell_type": "code",
   "execution_count": 26,
   "metadata": {},
   "outputs": [
    {
     "name": "stdout",
     "output_type": "stream",
     "text": [
      "Коэффициенты регрессии:\n",
      "[1.088125   5.30520833 5.17604167 8.00979167 9.10270833 7.435625\n",
      " 9.58270833 0.25145833 0.396875   2.55229167 5.89270833 4.46395833\n",
      " 8.971875   3.31895833 3.018125   9.83020833]\n"
     ]
    }
   ],
   "source": [
    "b = calculate_regression_coefficients(X, y)\n",
    "print(\"Коэффициенты регрессии:\")\n",
    "print(b)"
   ]
  },
  {
   "cell_type": "markdown",
   "metadata": {},
   "source": [
    "### Проверяем значимость"
   ]
  },
  {
   "cell_type": "code",
   "execution_count": 29,
   "metadata": {},
   "outputs": [
    {
     "name": "stdout",
     "output_type": "stream",
     "text": [
      "Значимые коэффициенты (индексы): []\n"
     ]
    }
   ],
   "source": [
    "significant, t_critical = check_significance(b, y, X)\n",
    "print(\"Значимые коэффициенты (индексы):\", significant)"
   ]
  },
  {
   "cell_type": "markdown",
   "metadata": {},
   "source": [
    "### Пересчитываем модель с учётом значимости"
   ]
  },
  {
   "cell_type": "code",
   "execution_count": 30,
   "metadata": {},
   "outputs": [
    {
     "name": "stdout",
     "output_type": "stream",
     "text": [
      "Обновлённые коэффициенты регрессии (после исключения): [1.088125]\n"
     ]
    }
   ],
   "source": [
    "b_new, X_new = update_model(b, X, y, significant)\n",
    "print(\"Обновлённые коэффициенты регрессии (после исключения):\", b_new)"
   ]
  },
  {
   "cell_type": "markdown",
   "metadata": {},
   "source": [
    "### Проверка адекватности"
   ]
  },
  {
   "cell_type": "code",
   "execution_count": 31,
   "metadata": {},
   "outputs": [
    {
     "name": "stdout",
     "output_type": "stream",
     "text": [
      "F-значение: 1.0000000000000002\n",
      "F-critical: nan\n",
      "Модель адекватна: False\n"
     ]
    }
   ],
   "source": [
    "F_calculated, F_critical = check_adequacy(b_new, X_new, y)\n",
    "print(\"F-значение:\", F_calculated)\n",
    "print(\"F-critical:\", F_critical)\n",
    "print(\"Модель адекватна:\", F_calculated < F_critical)"
   ]
  }
 ],
 "metadata": {
  "kernelspec": {
   "display_name": ".venv",
   "language": "python",
   "name": "python3"
  },
  "language_info": {
   "codemirror_mode": {
    "name": "ipython",
    "version": 3
   },
   "file_extension": ".py",
   "mimetype": "text/x-python",
   "name": "python",
   "nbconvert_exporter": "python",
   "pygments_lexer": "ipython3",
   "version": "3.12.3"
  }
 },
 "nbformat": 4,
 "nbformat_minor": 2
}
